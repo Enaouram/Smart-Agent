{
 "cells": [
  {
   "cell_type": "markdown",
   "metadata": {},
   "source": [
    "# TP Représentation symbolique du langage naturel et inférence"
   ]
  },
  {
   "cell_type": "markdown",
   "metadata": {},
   "source": [
    "## Présentation\n",
    "\n",
    "Un agent de gestion personnelle de l'information peut se concevoir de la façon suivante (modèle *Advice Taker*, dû à John McCarthy):\n",
    "\n",
    "![Modèle Advice Taker](images/img_2022-09-05-08-17-22.png)\n",
    "\n",
    "On **dit** les choses à l'agent, puis on lui pose des questions.\n",
    "\n",
    "Dans ce TP, nous proposons de réaliser un agent de ce type qui raisonne que de façon purement logique, comme dans le dialogue ci-dessous (exemple dû à Percy Liang, Stanford) :\n",
    "\n",
    "```\n",
    "-> Alice is a student.\n",
    "I learned something\n",
    "-> Is Alice a student?\n",
    "Yes.\n",
    "-> Is Bob a student?\n",
    "I don't know.\n",
    "-> Students are people.\n",
    "I learned something.\n",
    "-> Alice is a person.\n",
    "I already knew that.\n",
    "-> Alice is not a person.\n",
    "I don't buy that.\n",
    "-> Alice is from Phoenix.\n",
    "I learned something.\n",
    "-> Is Alice from a city?\n",
    "I don't know.\n",
    "-> Phoenix is a hot city.\n",
    "I learned something.\n",
    "-> Is Alice from a city?\n",
    "Yes.\n",
    "-> Cities are places.\n",
    "I learned something.\n",
    "-> If it is snowing then it is cold.\n",
    "I learned something.\n",
    "-> Is it snowing?\n",
    "I don't know.\n",
    "-> If a person is from a hot place and it is cold, then she is not happy.\n",
    "I learned something\n",
    "-> Is it snowing?\n",
    "I don't know.\n",
    "-> Alice is happy.\n",
    "I learned something.\n",
    "-> Is is snowing?\n",
    "No.\n",
    "```\n",
    "\n",
    "Les énoncés seront communiqués sous forme naturelle en anglais, ils seront traduits sous forme logique du premier ordre, puis un raisonnement sera opéré pour déterminer la réponse de l'agent.\n",
    "\n",
    "Pour réaliser cet agent vous allez utiliser la bibliothèque [Python NLTK](https://www.nltk.org/) qui fournit tous les outils nécessaires.\n",
    "\n",
    "Nous allons commencer par nous intéresser à l'analyse syntaxique des énoncés en anglais. Ensuite nous regarderons comment créer une sémantique compositionnelle pour construire une formule logique décrivant la sémantique de l'énoncé. Enfin, nous utiliserons un raisonneur par résolution pour déterminer la réponse adéquate.\n",
    "\n",
    "La réalisation de l'agent passera par la constitution d'une base de connaissances KB (*Knowledge Base*) qui rassemblera l'ensemble des énoncés appris, mémorisés sous leur forme logique et formant un ensemble consistant.\n",
    "\n",
    "**Le travail à réaliser se situe dans les notebooks 3, 4 et 5.**\n",
    "\n",
    "**Le rendu devra consister en une archive contenant l'intégralité du répertoire.**"
   ]
  }
 ],
 "metadata": {
  "kernelspec": {
   "display_name": "Python 3 (ipykernel)",
   "language": "python",
   "name": "python3"
  },
  "language_info": {
   "codemirror_mode": {
    "name": "ipython",
    "version": 3
   },
   "file_extension": ".py",
   "mimetype": "text/x-python",
   "name": "python",
   "nbconvert_exporter": "python",
   "pygments_lexer": "ipython3",
   "version": "3.10.6"
  },
  "vscode": {
   "interpreter": {
    "hash": "bda1c67b01271daed5e4746fc62d006614e7000c5bc3b11931ce9fe70277fcae"
   }
  }
 },
 "nbformat": 4,
 "nbformat_minor": 2
}
