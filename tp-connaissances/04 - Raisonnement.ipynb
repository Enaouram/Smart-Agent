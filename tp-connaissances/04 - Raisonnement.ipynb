{
 "cells": [
  {
   "cell_type": "markdown",
   "metadata": {},
   "source": []
  },
  {
   "cell_type": "markdown",
   "metadata": {},
   "source": [
    "# TP Représentation symbolique du langage naturel et inférence"
   ]
  },
  {
   "cell_type": "code",
   "execution_count": 1,
   "metadata": {},
   "outputs": [
    {
     "name": "stdout",
     "output_type": "stream",
     "text": [
      "Loading patch\n",
      "Patching nltk.sem.logic\n"
     ]
    }
   ],
   "source": [
    "# This patch is needed. It holds 2 fixes to skolemization and answers.\n",
    "import mynltk\n",
    "import nltk\n",
    "from nltk.sem import Expression, skolemize\n",
    "from nltk.inference.resolution import clausify, Clause\n",
    "\n",
    "import os\n",
    "os.environ['PROVER9'] = 'c:/Program Files (x86)/Prover9-Mace4/bin-win32/'\n",
    "\n",
    "read_expr = nltk.sem.Expression.fromstring"
   ]
  },
  {
   "cell_type": "markdown",
   "metadata": {},
   "source": [
    "NLTK permet de lire des expressions logiques et de les transformer. \n",
    "\n",
    "Examinons le résultat de la skolemisation :"
   ]
  },
  {
   "cell_type": "code",
   "execution_count": 2,
   "metadata": {},
   "outputs": [
    {
     "name": "stdout",
     "output_type": "stream",
     "text": [
      "F1\n",
      "happy(F2)\n",
      "happy(z3)\n",
      "-happy(z4)\n",
      "-happy(F5)\n",
      "from(z7,F6(z7))\n"
     ]
    }
   ],
   "source": [
    "from nltk.sem.logic import skolem_function\n",
    "print(skolem_function())\n",
    "print(skolemize(Expression.fromstring('exists x. happy(x)')))\n",
    "print(skolemize(Expression.fromstring('all x. happy(x)')))\n",
    "print(skolemize(Expression.fromstring('- exists x. happy(x)')))\n",
    "print(skolemize(Expression.fromstring('- all x. happy(x)')))\n",
    "print(skolemize(Expression.fromstring('all x. exists y. from(x, y)')))"
   ]
  },
  {
   "cell_type": "markdown",
   "metadata": {},
   "source": [
    "On note l'existence d'un compteur pour les fonctions de Skolem incrémenté à chaque utilisation."
   ]
  },
  {
   "cell_type": "markdown",
   "metadata": {},
   "source": [
    "## Démonstration par résolution\n",
    "\n",
    "NLTK fournit un démonstrateur de théorèmes par résolution.\n",
    "Nous pouvons illustrer son fonctionnement par l'exemple suivant :\n",
    "\n",
    "> The law says that it is a crime for an American to sell weapons to hostile nations.\n",
    ">  \n",
    "> The country Nono, an enemy of America, has some missiles, \n",
    "> and all of its missiles were sold to it by Colonel West, who is American.\n",
    "\n",
    "(Exemple fourni par Russell & Norvig, \"Artificial Intelligence\", chapitre 9)\n",
    "\n",
    "La traduction en formules logiques de ces énoncés donne :\n",
    "\n",
    "$\\forall x y z \\; american(x) \\wedge weapon(y) \\wedge sells(x, y, z) \\wedge hostile(z) \\rightarrow criminal(x)$\n",
    "\n",
    "$\\forall x \\; missile(x) \\wedge owns(Nono, x) \\rightarrow sells(West, x, Nono)$\n",
    "\n",
    "$\\forall x \\; ennemy(x, America) \\rightarrow hostile(x)$\n",
    "\n",
    "$\\forall x \\; missile(x) \\rightarrow weapon(x)$\n",
    "\n",
    "$american(West) \\qquad ennemy(Nono, America)$\n",
    "\n",
    "$\\exists x \\; missile(x) \\wedge owns(Nono, x)$\n"
   ]
  },
  {
   "cell_type": "code",
   "execution_count": 3,
   "metadata": {},
   "outputs": [],
   "source": [
    "c1 = read_expr('all x y z.(american(x) & weapon(y) & sells(x, y, z) & hostile(z) -> criminal(x))')\n",
    "c2 = read_expr('all x.(missile(x) & owns(Nono, x) -> sells(West, x, Nono))')\n",
    "c3 = read_expr('all x. (ennemy(x, America) -> hostile(x))')\n",
    "c4 = read_expr('all x.(missile(x) -> weapon(x))')\n",
    "c5 = read_expr('american(West)')\n",
    "c6 = read_expr('ennemy(Nono, America)')\n",
    "c7 = read_expr('some x.(missile(x) & owns(Nono, x))')"
   ]
  },
  {
   "cell_type": "markdown",
   "metadata": {},
   "source": [
    "NLTK sait transformer ces formules sous forme clausale :"
   ]
  },
  {
   "cell_type": "code",
   "execution_count": 4,
   "metadata": {},
   "outputs": [
    {
     "data": {
      "text/plain": [
       "[{-american(z13), -weapon(z11), -sells(z13,z11,z12), -hostile(z12), criminal(z13)}]"
      ]
     },
     "execution_count": 4,
     "metadata": {},
     "output_type": "execute_result"
    }
   ],
   "source": [
    "clausify(c1)"
   ]
  },
  {
   "cell_type": "code",
   "execution_count": 5,
   "metadata": {},
   "outputs": [
    {
     "data": {
      "text/plain": [
       "[{missile(F14)}, {owns(Nono,F14)}]"
      ]
     },
     "execution_count": 5,
     "metadata": {},
     "output_type": "execute_result"
    }
   ],
   "source": [
    "clausify(c7)\n",
    "# nltk.sem.skolemize(c7)"
   ]
  },
  {
   "cell_type": "code",
   "execution_count": 6,
   "metadata": {},
   "outputs": [
    {
     "name": "stdout",
     "output_type": "stream",
     "text": [
      "True\n",
      "============================== prooftrans ============================\n",
      "Prover9 (32) version Dec-2007, Dec 2007.\n",
      "Process 13428 was started by Maamar on DESKTOP-VUU0N4G,\n",
      "Wed Nov 15 21:52:24 2023\n",
      "The command was \"/cygdrive/c/Program Files (x86)/Prover9-Mace4/bin-win32/prover9\".\n",
      "============================== end of head ===========================\n",
      "\n",
      "============================== end of input ==========================\n",
      "\n",
      "============================== PROOF =================================\n",
      "\n",
      "% -------- Comments from original proof --------\n",
      "% Proof 1 at 0.00 (+ 0.00) seconds.\n",
      "% Length of proof is 24.\n",
      "% Level of proof is 6.\n",
      "% Maximum clause weight is 0.\n",
      "% Given clauses 0.\n",
      "\n",
      "1 (all x all y all z (american(x) & weapon(y) & sells(x,y,z) & hostile(z) -> criminal(x))).  [assumption].\n",
      "2 (all x (missile(x) & owns(Nono,x) -> sells(West,x,Nono))).  [assumption].\n",
      "3 (all x (ennemy(x,America) -> hostile(x))).  [assumption].\n",
      "4 (all x (missile(x) -> weapon(x))).  [assumption].\n",
      "5 (exists x (missile(x) & owns(Nono,x))).  [assumption].\n",
      "6 criminal(West).  [goal].\n",
      "7 american(West).  [assumption].\n",
      "8 -american(x) | -weapon(y) | -sells(x,y,z) | -hostile(z) | criminal(x).  [clausify(1)].\n",
      "9 missile(c1).  [clausify(5)].\n",
      "10 -missile(x) | -owns(Nono,x) | sells(West,x,Nono).  [clausify(2)].\n",
      "11 -missile(x) | weapon(x).  [clausify(4)].\n",
      "12 ennemy(Nono,America).  [assumption].\n",
      "13 -ennemy(x,America) | hostile(x).  [clausify(3)].\n",
      "14 -owns(Nono,c1) | sells(West,c1,Nono).  [resolve(9,a,10,a)].\n",
      "15 owns(Nono,c1).  [clausify(5)].\n",
      "16 -weapon(x) | -sells(West,x,y) | -hostile(y) | criminal(West).  [resolve(7,a,8,a)].\n",
      "17 -criminal(West).  [deny(6)].\n",
      "18 -weapon(x) | -sells(West,x,y) | -hostile(y).  [resolve(16,d,17,a)].\n",
      "19 weapon(c1).  [resolve(9,a,11,a)].\n",
      "20 -sells(West,c1,x) | -hostile(x).  [resolve(18,a,19,a)].\n",
      "21 hostile(Nono).  [resolve(12,a,13,a)].\n",
      "22 -sells(West,c1,Nono).  [resolve(20,b,21,a)].\n",
      "23 sells(West,c1,Nono).  [resolve(14,a,15,a)].\n",
      "24 $F.  [resolve(22,a,23,a)].\n",
      "\n",
      "============================== end of proof ==========================\n"
     ]
    }
   ],
   "source": [
    "conclusion = read_expr('criminal(West)')\n",
    "# L'utilisation du prover intégré à NLTK est extrêmement lente.\n",
    "# prover = nltk.ResolutionProverCommand(conclusion, [c1,c2,c3,c4,c5,c6,c7])\n",
    "# On préfère utiliser Prover9.\n",
    "prover = nltk.Prover9Command(conclusion, [c1,c2,c3,c4,c5,c6,c7])\n",
    "print(prover.prove())\n",
    "print(prover.proof())"
   ]
  },
  {
   "cell_type": "markdown",
   "metadata": {},
   "source": [
    "La clause vide a été dérivée. \n",
    "\n",
    "On peut demander à examiner les hypothèses :"
   ]
  },
  {
   "cell_type": "code",
   "execution_count": 7,
   "metadata": {},
   "outputs": [
    {
     "name": "stdout",
     "output_type": "stream",
     "text": [
      "all x y z.((american(x) & weapon(y) & sells(x,y,z) & hostile(z)) -> criminal(x))\n",
      "all x.((missile(x) & owns(Nono,x)) -> sells(West,x,Nono))\n",
      "all x.(ennemy(x,America) -> hostile(x))\n",
      "all x.(missile(x) -> weapon(x))\n",
      "american(West)\n",
      "ennemy(Nono,America)\n",
      "exists x.(missile(x) & owns(Nono,x))\n"
     ]
    }
   ],
   "source": [
    "for a in prover.assumptions():\n",
    "    print(a)"
   ]
  },
  {
   "cell_type": "markdown",
   "metadata": {},
   "source": [
    "Il est possible d'extraire des réponses d'un arbre de preuve. La clause vide n'étant pas un moyen de véhiculer l'information que l'on souhaite récupérer, le calcul d'une réponse passe par l'utilisation d'un littéral spécifique ANSWER qui est ignoré par l'algorithme de résolution, mais qui mémorise la variable contenant a réponse cherchée."
   ]
  },
  {
   "cell_type": "markdown",
   "metadata": {},
   "source": [
    "## Travail\n",
    "\n",
    "Résoudre le problème suivant :\n",
    "\n",
    ">Everyone who loves all animals is loved by someone.\n",
    ">\n",
    ">Anyone who kills an animal is loved by no one. \n",
    ">\n",
    ">Jack loves all animals. \n",
    ">\n",
    ">Either Jack or Curiosity killed the cat, who is named Tuna. \n",
    ">\n",
    ">Did Curiosity kill the cat?\n"
   ]
  },
  {
   "cell_type": "markdown",
   "metadata": {},
   "source": [
    "Commençons par traduire les énoncés en logique du premier ordre :\n",
    "\n",
    "1. **Tout le monde qui aime tous les animaux est aimé par quelqu'un.**\n",
    "\n",
    "   $\\forall x \\left( \\left( \\forall y \\, \\text{animal}(y) \\rightarrow \\text{aime}(x,y) \\right) \\rightarrow \\exists z \\, \\text{aime}(z,x) \\right)$\n",
    "\n",
    "2. **Quiconque tue un animal n'est aimé de personne.**\n",
    "   \n",
    "   $\\forall x \\left( \\exists y \\left( \\text{animal}(y) \\wedge \\text{tue}(x,y) \\right) \\rightarrow \\neg \\exists z \\, \\text{aime}(z,x) \\right)$\n",
    "   \n",
    "\n",
    "3. **Jack aime tous les animaux.**\n",
    "   \n",
    "   $\\forall y \\, \\text{animal}(y) \\rightarrow \\text{aime}(\\text{Jack},y)$\n",
    "\n",
    "4. **Soit Jack, soit Curiosity a tué le chat, nommé Tuna.**\n",
    "   \n",
    "   $\\text{tue}(\\text{Jack},\\text{Tuna}) \\vee \\text{tue}(\\text{Curiosity},\\text{Tuna})$\n",
    "   \n",
    "   \n",
    "   $\\text{animal}(\\text{Tuna}) \\wedge \\text{chat}(\\text{Tuna})$\n",
    "\n",
    "\n",
    "5. **Curiosity a-t-il tué le chat?**\n",
    "   \n",
    "   $\\text{tue}(\\text{Curiosity},\\text{Tuna})$\n",
    "   \n"
   ]
  },
  {
   "cell_type": "code",
   "execution_count": 8,
   "metadata": {},
   "outputs": [
    {
     "name": "stdout",
     "output_type": "stream",
     "text": [
      "True\n",
      "============================== prooftrans ============================\n",
      "Prover9 (32) version Dec-2007, Dec 2007.\n",
      "Process 7944 was started by Maamar on DESKTOP-VUU0N4G,\n",
      "Wed Nov 15 22:12:22 2023\n",
      "The command was \"/cygdrive/c/Program Files (x86)/Prover9-Mace4/bin-win32/prover9\".\n",
      "============================== end of head ===========================\n",
      "\n",
      "============================== end of input ==========================\n",
      "\n",
      "============================== PROOF =================================\n",
      "\n",
      "% -------- Comments from original proof --------\n",
      "% Proof 1 at 0.00 (+ 0.01) seconds.\n",
      "% Length of proof is 21.\n",
      "% Level of proof is 6.\n",
      "% Maximum clause weight is 8.\n",
      "% Given clauses 9.\n",
      "\n",
      "1 (all x ((all y (animal(y) -> love(x,y))) -> (exists z love(z,x)))).  [assumption].\n",
      "2 (all x ((exists y (animal(y) & kill(x,y))) -> (all z -love(z,x)))).  [assumption].\n",
      "3 (all x (animal(x) -> love(Jack,x))).  [assumption].\n",
      "4 (all x (cat(x) -> animal(x))).  [assumption].\n",
      "5 kill(Jack,Tuna) & -kill(Curiosity,Tuna) | kill(Curiosity,Tuna) & -kill(Jack,Tuna).  [assumption].\n",
      "6 kill(Curiosity,Tuna).  [goal].\n",
      "7 -animal(x) | -kill(y,x) | -love(z,y).  [clausify(2)].\n",
      "8 animal(f1(x)) | love(f2(x),x).  [clausify(1)].\n",
      "9 -animal(x) | love(Jack,x).  [clausify(3)].\n",
      "10 -cat(x) | animal(x).  [clausify(4)].\n",
      "11 -cat(x) | -kill(y,x) | -love(z,y).  [resolve(10,b,7,a)].\n",
      "12 cat(Tuna).  [assumption].\n",
      "14 -love(x,f1(x)) | love(f2(x),x).  [clausify(1)].\n",
      "15 kill(Jack,Tuna) | kill(Curiosity,Tuna).  [clausify(5)].\n",
      "17 -kill(Curiosity,Tuna).  [deny(6)].\n",
      "19 love(Jack,f1(x)) | love(f2(x),x).  [resolve(9,a,8,a)].\n",
      "20 -kill(x,Tuna) | -love(y,x).  [resolve(11,a,12,a)].\n",
      "22 kill(Jack,Tuna).  [back_unit_del(15),unit_del(b,17)].\n",
      "24 -love(x,Jack).  [resolve(22,a,20,a)].\n",
      "25 love(Jack,f1(Jack)).  [resolve(24,a,19,b)].\n",
      "27 $F.  [ur(14,b,24,a),unit_del(a,25)].\n",
      "\n",
      "============================== end of proof ==========================\n"
     ]
    }
   ],
   "source": [
    "c1 = read_expr('all x. (all y.(animal(y) -> love(x,y)) -> exists z. love(z,x))')\n",
    "c2 = read_expr('all x. ((exists y. (animal(y) & kill(x,y))) -> all z. -love(z,x))')\n",
    "c3 = read_expr('all x. (animal(x) -> love(Jack,x))')\n",
    "c4 = read_expr('all x. (cat(x) -> animal(x))')\n",
    "c5 = read_expr('cat(Tuna)')\n",
    "c6 = read_expr('(kill(Jack, Tuna) & -kill(Curiosity, Tuna)) | (kill(Curiosity, Tuna) & -kill(Jack, Tuna))')\n",
    "conclusion = read_expr('kill(Curiosity, Tuna)')\n",
    "\n",
    "prover = nltk.inference.Prover9Command(conclusion, [c1,c2,c3,c4,c5,c6])\n",
    "print(prover.prove())\n",
    "print(prover.proof())"
   ]
  },
  {
   "cell_type": "markdown",
   "metadata": {},
   "source": [
    "La preuve générée par Prover9 indique que la conclusion kill(Curiosity, Tuna) est vraie en se basant sur les formules logiques que nous avons fournies. Voici comment interpréter les étapes clés de la preuve :\n",
    "\n",
    "Hypothèses et Objectif :\n",
    "\n",
    "Les hypothèses (clauses 1 à 5 et 12) sont les formules logiques que nous avons définies.\n",
    "L'objectif est de prouver que kill(Curiosity, Tuna) (clause 6).\n",
    "\n",
    "Processus de Raisonnement :\n",
    "\n",
    "Le système utilise diverses techniques de résolution (comme clausify, resolve, back_unit_del) pour manipuler et combiner les hypothèses.\n",
    "Les clauses numérotées (7 à 27) représentent les étapes intermédiaires et les conclusions tirées de ces manipulations.\n",
    "\n",
    "Résultat Final :\n",
    "\n",
    "La clause $F (False) est obtenue à la fin (clause 27), ce qui dans le contexte de la logique de Prover9 signifie que la contradiction a été trouvée dans la négation de l'objectif. Cela indique que l'objectif (c'est-à-dire kill(Curiosity, Tuna)) est vrai en raison de la contradiction trouvée en supposant le contraire.\n",
    "\n",
    "Interprétation :\n",
    "\n",
    "Selon les formules logiques et les règles que nous avons fournies, il est logiquement valide de conclure que Curiosity a tué le chat, Tuna.\n",
    "\n",
    "Considérations Importantes :\n",
    "\n",
    "En résumé, la preuve fournie par Prover9 confirme que, selon votre modélisation logique du scénario, Curiosity est responsable de la mort du chat, Tuna.\n",
    "Globalement, l'approche est correcte. Cependant, j'ai décidé de tester également le contraire de la conclusion (par exemple, kill(Jack, Tuna)) pour voir si le système peut également déduire cette conclusion ou non, afin d'avoir une compréhension complète du scénario."
   ]
  },
  {
   "cell_type": "code",
   "execution_count": 9,
   "metadata": {},
   "outputs": [
    {
     "name": "stdout",
     "output_type": "stream",
     "text": [
      "False\n",
      "============================== prooftrans ============================\n",
      "Prover9 (32) version Dec-2007, Dec 2007.\n",
      "Process 6464 was started by Maamar on DESKTOP-VUU0N4G,\n",
      "Wed Nov 15 22:21:16 2023\n",
      "The command was \"/cygdrive/c/Program Files (x86)/Prover9-Mace4/bin-win32/prover9\".\n",
      "============================== end of head ===========================\n",
      "\n",
      "============================== end of input ==========================\n"
     ]
    }
   ],
   "source": [
    "# Nouvelle conclusion à tester\n",
    "new_conclusion = read_expr('kill(Jack, Tuna)')\n",
    "\n",
    "# Utiliser Prover9 pour tester la nouvelle conclusion\n",
    "new_prover = nltk.inference.Prover9Command(new_conclusion, [c1, c2, c3, c4, c5, c6])\n",
    "print(new_prover.prove())\n",
    "print(new_prover.proof())\n"
   ]
  },
  {
   "cell_type": "markdown",
   "metadata": {},
   "source": [
    "Le résultat False indique que, selon les formules logiques que nous avons fournies, il n'est pas possible de déduire logiquement que Jack a tué Tuna. Ce résultat, en combinaison avec le résultat précédent (où il a été déduit que Curiosity a tué Tuna), suggère que notre modèle logique est suffisamment spécifique pour identifier un coupable unique dans ce scénario.\n",
    "\n",
    "En résumé, notre modèle logique mène à la conclusion que Curiosity, et non Jack, est responsable de la mort du chat Tuna, selon les informations et les règles que nous avons établies. Cela démontre une bonne cohérence dans notre modèle et confirme que les prémisses conduisent à une conclusion unique et spécifique dans ce cas."
   ]
  }
 ],
 "metadata": {
  "kernelspec": {
   "display_name": "Python 3 (ipykernel)",
   "language": "python",
   "name": "python3"
  },
  "language_info": {
   "codemirror_mode": {
    "name": "ipython",
    "version": 3
   },
   "file_extension": ".py",
   "mimetype": "text/x-python",
   "name": "python",
   "nbconvert_exporter": "python",
   "pygments_lexer": "ipython3",
   "version": "3.9.13"
  },
  "vscode": {
   "interpreter": {
    "hash": "bda1c67b01271daed5e4746fc62d006614e7000c5bc3b11931ce9fe70277fcae"
   }
  }
 },
 "nbformat": 4,
 "nbformat_minor": 2
}
