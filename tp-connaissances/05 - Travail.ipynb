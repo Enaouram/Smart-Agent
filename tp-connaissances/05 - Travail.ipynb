{
 "cells": [
  {
   "cell_type": "markdown",
   "metadata": {},
   "source": [
    "# TP Représentation symbolique du langage naturel et inférence"
   ]
  },
  {
   "cell_type": "code",
   "execution_count": 2,
   "metadata": {},
   "outputs": [
    {
     "name": "stdout",
     "output_type": "stream",
     "text": [
      "Loading patch\n",
      "Patching nltk.sem.logic\n"
     ]
    }
   ],
   "source": [
    "import mynltk\n",
    "import nltk\n",
    "from nltk.sem import Expression, skolemize\n",
    "from nltk.inference.resolution import clausify, Clause\n",
    "\n",
    "read_expr = nltk.sem.Expression.fromstring"
   ]
  },
  {
   "cell_type": "code",
   "execution_count": 3,
   "metadata": {},
   "outputs": [],
   "source": [
    "import os\n",
    "os.environ['PROVER9'] = 'c:/Program Files (x86)/Prover9-Mace4/bin-win32/'\n"
   ]
  },
  {
   "cell_type": "markdown",
   "metadata": {},
   "source": [
    "## Préliminaire\n",
    "\n",
    "Dans cette partie, vous allez utiliser un démonstrateur automatique externe qui implémente la résolution et qui est beaucoup plus performant que celui fourni nativement par NLTK. L'interface reste la même du point de vue de Python, en revanche les temps d'exécution sont réduits de beaucoup.\n",
    "\n",
    "Rendez-vous sur la page de téléchargement de [Prover9](https://www.cs.unm.edu/~mccune/prover9/gui/v05.html) et installez la version adaptée à votre système. Notez le répertoire d'installation et le chemin de l'exécutable `prover9` (Mac/Unix) ou `prover9.exe` (Windows).\n",
    "\n",
    "L'interface depuis Python reste la même : vous utilisez `Prover9Command` au lieu de `ResolutionProverCommand`."
   ]
  },
  {
   "cell_type": "markdown",
   "metadata": {},
   "source": [
    "## Répondre aux questions\n",
    "\n",
    "Lorsque vous donnez un énoncé à l'agent, celui-ci doit déterminer si cet énoncé est acceptable ou non, et lorsqu'il est acceptable, si l'agent apprend quelque chose de nouveau avec cet énoncé.\n",
    "\n",
    "Lorsque vous posez une question fermée à l'agent, celui-ci doit déterminer s'il peut répondre par oui ou par non, ou bien si la réponse lui est inconnue.\n",
    "\n",
    "L'agent possède une base de connaissances KB. Face à un nouveau fait f, les situations possibles sont les suivantes :\n",
    "\n",
    "- f est une conséquence de KB ($KB \\vDash f$) : l'agent répond \"I already know that\"\n",
    "- f est en contradiction avec KB ($KB \\vDash \\neg f$) : l'agent répond \"I don't buy that\"\n",
    "- f est contingent de KB (KB n'a ni $f$, ni $\\neg f$ pour conséquence) : l'agent ajoute f à KB et répond \"I learned something\"\n",
    "\n",
    "Dans le cas d'une question f, les situations possibles sont les suivantes :\n",
    "\n",
    "- f est une conséquence de KB ($KB \\vDash f$) : l'agent répond \"Yes\"\n",
    "- f est en contradiction avec KB ($KB \\vDash \\neg f$) : l'agent répond \"No\"\n",
    "- f est contingent de KB (KB n'a ni $f$, ni $\\neg f$ pour conséquence) : l'agent répond \"I don't know\"\n"
   ]
  },
  {
   "cell_type": "markdown",
   "metadata": {},
   "source": [
    "## Travail\n",
    "\n",
    "### Partie 1\n",
    "\n",
    "A partir de ce point, votre travail va consister à assembler un système de dialogue à partir des éléments vu précédemment, de sorte à reproduire le dialogue ciblé."
   ]
  },
  {
   "cell_type": "code",
   "execution_count": 74,
   "metadata": {},
   "outputs": [],
   "source": [
    "import mynltk\n",
    "import nltk\n",
    "from nltk.inference.resolution import ResolutionProverCommand\n",
    "from nltk.sem.logic import AndExpression, ConstantExpression, Variable\n",
    "from nltk.inference.prover9 import Prover9Command\n",
    "\n",
    "sents = [\n",
    "    'Alice is a student',     # student(alice)\n",
    "    'Is Alice a student ?',   # student(alice)\n",
    "    'Is Bob a student ?',     # student(bob)\n",
    "    'Students are people',    # student(X) -> person(X)\n",
    "    'Alice is a person',      # person(alice)\n",
    "    'Alice is not a person',  # -person(alice)\n",
    "    'Alice is from Phoenix',    # from(phoenix, alice)\n",
    "    'Is Alice from a city ?', # from(X, alice) & city(X)\n",
    "    'Phoenix is a hot city',  # city(phoenix) & hot(phoenix)\n",
    "    'Is Alice from a city ?', # from(X, alice) & city(X)\n",
    "    'Cities are places',      # city(X) -> place(X) \n",
    "    'If it is snowing then it is cold', # snow -> cold\n",
    "    'It is not cold',\n",
    "    'Is it snowing ?',        # snow\n",
    "    'If a person is from a hot place and it is cold then she is not happy', # person(X) & from(Y, X) & hot(Y) & cold -> -happy(X)   \n",
    "    'Is it snowing ?',        # snow\n",
    "    'Alice is happy',         # happy(alice)\n",
    "    'Is Alice happy ?',        # happy(alice)\n",
    "    'Is it snowing ?'         # snow\n",
    "    ]\n"
   ]
  },
  {
   "cell_type": "markdown",
   "metadata": {},
   "source": [
    "Pour enchaîner le dialogue, nous avons le choix entre :\n",
    "- taper les phrases une par une au clavier\n",
    "- fournir automatiquement les phrases du dialogue de référence.\n",
    "\n",
    "Pour permettre d'utiliser indifféremment l'une ou l'autre,  nous définissons deux classes sur lesquelles itérer."
   ]
  },
  {
   "cell_type": "code",
   "execution_count": 5,
   "metadata": {},
   "outputs": [],
   "source": [
    "class ReadLineIterator:\n",
    "    \"\"\"Class to implement an iterator\n",
    "    of readline()\"\"\"\n",
    "\n",
    "    def __init__(self, stop='bye'):\n",
    "        self.stop = stop\n",
    "\n",
    "    def __iter__(self):\n",
    "        return self\n",
    "\n",
    "    def __next__(self):\n",
    "        self.input = input('>>> ')\n",
    "        if self.input != self.stop:\n",
    "            return self.input\n",
    "        else:\n",
    "            raise StopIteration\n",
    "\n",
    "class SentencesIterator:\n",
    "    \"\"\"Class to implement an iterator\n",
    "    of list\"\"\"\n",
    "\n",
    "    def __init__(self, sentences):\n",
    "        self.sentences = sentences\n",
    "\n",
    "    def __iter__(self):\n",
    "        self.index = 0\n",
    "        return self\n",
    "\n",
    "    def __next__(self):\n",
    "        if self.index < len(self.sentences):\n",
    "            s = self.sentences[self.index]\n",
    "            self.index += 1\n",
    "            print('>>> ', s)\n",
    "            return s\n",
    "        else:\n",
    "            raise StopIteration\n"
   ]
  },
  {
   "cell_type": "markdown",
   "metadata": {},
   "source": [
    "Vous avez un squelette de classe agent qui va réaliser le dialogue et les réponses dans la cellule suivante.\n",
    "\n",
    "Pour que le dialogue soit complet, il faut :\n",
    "- ajouter les règles manquantes à la grammaire `dialog.fcfg` pour analyser certaines formes non traitées,\n",
    "- inférer la réponse correcte par résolution en suivant les règles données plus haut."
   ]
  },
  {
   "cell_type": "code",
   "execution_count": 77,
   "metadata": {},
   "outputs": [
    {
     "name": "stdout",
     "output_type": "stream",
     "text": [
      ">>>  Alice is a student\n",
      "I learned something\n",
      ">>>  Is Alice a student ?\n",
      "Yes\n",
      ">>>  Is Bob a student ?\n",
      "I don't know\n",
      ">>>  Students are people\n",
      "I learned something\n",
      ">>>  Alice is a person\n",
      "I already know that\n",
      ">>>  Alice is not a person\n",
      "I don't buy that\n",
      ">>>  Alice is from Phoenix\n",
      "I learned something\n",
      ">>>  Is Alice from a city ?\n",
      "I don't know\n",
      ">>>  Phoenix is a hot city\n",
      "I already know that\n",
      ">>>  Is Alice from a city ?\n",
      "I don't know\n",
      ">>>  Cities are places\n",
      "I learned something\n",
      ">>>  If it is snowing then it is cold\n",
      ">>>  It is not cold\n",
      ">>>  Is it snowing ?\n",
      "I don't know\n",
      ">>>  If a person is from a hot place and it is cold then she is not happy\n",
      ">>>  Is it snowing ?\n",
      "I don't know\n",
      ">>>  Alice is happy\n",
      "I learned something\n",
      ">>>  Is Alice happy ?\n",
      ">>>  Is it snowing ?\n",
      "I don't know\n"
     ]
    }
   ],
   "source": [
    "class Agent:\n",
    "\n",
    "    def __init__(self, grammar='grammar/dialog.fcfg', source=iter(SentencesIterator(sents))):\n",
    "        self.KB = []\n",
    "        with open(grammar, 'r') as file:\n",
    "            data = file.read()\n",
    "        self.grammar = nltk.grammar.FeatureGrammar.fromstring(data)\n",
    "        self.parser = nltk.FeatureChartParser(self.grammar, trace=0)\n",
    "        self.source = source\n",
    "\n",
    "    def prove(self, formula):\n",
    "        tp = Prover9Command(formula, self.KB)\n",
    "        # ATTENTION: ajuster le chemin à l'exécutable\n",
    "        tp._prover.config_prover9('c:/Program Files (x86)/Prover9-Mace4/bin-win32/prover9.exe')\n",
    "        return tp.prove()\n",
    "\n",
    "    def dialog(self):\n",
    "        try:\n",
    "                while True:\n",
    "                    sentence = next(self.source)\n",
    "                    try:\n",
    "                        parsed_tree = next(self.parser.parse(sentence.split()))\n",
    "                        formula = parsed_tree.label()['SEM']\n",
    "                        assert isinstance(formula, AndExpression)\n",
    "                        question = (formula.second == ConstantExpression(Variable('question')))\n",
    "                        assertion = (formula.second == ConstantExpression(Variable('assertion')))\n",
    "                        formula = formula.first\n",
    "\n",
    "                        if question:\n",
    "                            if self.prove(formula):\n",
    "                                print('Yes')\n",
    "                            elif self.prove(Expression.fromstring(f'not {formula}')):\n",
    "                                print('No')\n",
    "                            else:\n",
    "                                print('I don\\'t know')\n",
    "                        elif assertion:\n",
    "                            if self.prove(formula):\n",
    "                                print('I already know that')\n",
    "                            elif self.prove(Expression.fromstring(f'not {formula}')):\n",
    "                                print('I don\\'t buy that')\n",
    "                            else:\n",
    "                                self.KB.append(formula)\n",
    "                                print('I learned something')\n",
    "                        else:\n",
    "                            print('I don\\'t know what to do with that')\n",
    "                    except Exception as e:\n",
    "                        continue\n",
    "\n",
    "        except StopIteration:\n",
    "            pass\n",
    "if __name__ == '__main__':\n",
    "    agent = Agent()\n",
    "    agent.dialog()                         \n"
   ]
  },
  {
   "cell_type": "markdown",
   "metadata": {},
   "source": [
    "### Partie 2\n",
    "\n",
    "Augmenter la grammaire pour obtenir des réponses autres que 'yes/no' à vos questions.\n",
    "\n",
    "Par exemple :\n",
    "- who is a student ?\n",
    "- what places are hot ?"
   ]
  },
  {
   "cell_type": "code",
   "execution_count": 48,
   "metadata": {},
   "outputs": [],
   "source": [
    "sents2 = [\n",
    "    'Alice is a student',    \n",
    "    'Bob is a student',   \n",
    "    'Cyril is a student',    \n",
    "    'who is a student ?',   \n",
    "    'Phoenix is a hot place',      \n",
    "    'Meknes is a hot place',  \n",
    "    'Marrakech is a hot place',   \n",
    "    'what places are hot ?'       \n",
    "    ]"
   ]
  },
  {
   "cell_type": "code",
   "execution_count": 63,
   "metadata": {},
   "outputs": [
    {
     "name": "stdout",
     "output_type": "stream",
     "text": [
      ">>>  Alice is a student\n",
      "I learned something\n",
      ">>>  Bob is a student\n",
      "I learned something\n",
      ">>>  Cyril is a student\n",
      "I learned something\n",
      ">>>  who is a student ?\n",
      ">>>  Phoenix is a hot place\n",
      "I learned something\n",
      ">>>  Meknes is a hot place\n",
      "I learned something\n",
      ">>>  Marrakech is a hot place\n",
      "I already know that\n",
      ">>>  what places are hot ?\n"
     ]
    }
   ],
   "source": [
    "\n",
    "class Agent:\n",
    "\n",
    "    def __init__(self, grammar='grammar/dialog.fcfg', source=iter(SentencesIterator(sents2))):\n",
    "        self.KB = []\n",
    "        with open(grammar, 'r') as file:\n",
    "            data = file.read()\n",
    "        self.grammar = nltk.grammar.FeatureGrammar.fromstring(data)\n",
    "        self.parser = nltk.FeatureChartParser(self.grammar, trace=0)\n",
    "        self.source = source\n",
    "\n",
    "    def prove(self, formula):\n",
    "        tp = Prover9Command(formula, self.KB)\n",
    "        # ATTENTION: ajuster le chemin à l'exécutable\n",
    "        tp._prover.config_prover9('c:/Program Files (x86)/Prover9-Mace4/bin-win32/prover9.exe')\n",
    "        return tp.prove()\n",
    "    \n",
    "    def handle_wh_question(self, formula):\n",
    "        results = []\n",
    "        predicate = str(formula).split('(')[0]  # Extrait le prédicat de la formule\n",
    "        print(f\"Recherche de prédicat dans la KB: {predicate}\")\n",
    "\n",
    "        for fact in self.KB:\n",
    "            print(f\"Vérification du fait dans la KB: {fact}\")\n",
    "            if predicate in str(fact):\n",
    "                entity = str(fact).split('(')[1].split(')')[0]\n",
    "                results.append(entity)\n",
    "\n",
    "        print(f\"Résultats trouvés: {results}\")\n",
    "        return results\n",
    "\n",
    "    def dialog(self):\n",
    "        try:\n",
    "                while True:\n",
    "                    sentence = next(self.source)\n",
    "                    try:\n",
    "                        parsed_tree = next(self.parser.parse(sentence.split()))\n",
    "                        formula = parsed_tree.label()['SEM']\n",
    "                        assert isinstance(formula, AndExpression)\n",
    "                        question = (formula.second == ConstantExpression(Variable('question')))\n",
    "                        assertion = (formula.second == ConstantExpression(Variable('assertion')))\n",
    "                        wh_question = 'SELECT' in str(formula.first)\n",
    "                        formula = formula.first\n",
    "                        \n",
    "\n",
    "                        if question:\n",
    "                            if wh_question:\n",
    "                                print(f\"Traitement d'une question WH: {sentence}\")\n",
    "                                answers = self.handle_wh_question(formula)\n",
    "                                for answer in answers:\n",
    "                                    print(answer)\n",
    "                            else :\n",
    "                                if self.prove(formula):\n",
    "                                    print('Yes')\n",
    "                                elif self.prove(Expression.fromstring(f'not {formula}')):\n",
    "                                    print('No')\n",
    "                                else:\n",
    "                                    print('I don\\'t know')\n",
    "                        elif assertion:\n",
    "                            if self.prove(formula):\n",
    "                                print('I already know that')\n",
    "                            elif self.prove(Expression.fromstring(f'not {formula}')):\n",
    "                                print('I don\\'t buy that')\n",
    "                            else:\n",
    "                                self.KB.append(formula)\n",
    "                                print('I learned something')\n",
    "                        else:\n",
    "                            print('I don\\'t know what to do with that')\n",
    "                    except Exception as e:\n",
    "                        continue\n",
    "\n",
    "        except StopIteration:\n",
    "            pass\n",
    "if __name__ == '__main__':\n",
    "    agent = Agent()\n",
    "    agent.dialog()                         \n"
   ]
  }
 ],
 "metadata": {
  "kernelspec": {
   "display_name": "ai",
   "language": "python",
   "name": "python3"
  },
  "language_info": {
   "codemirror_mode": {
    "name": "ipython",
    "version": 3
   },
   "file_extension": ".py",
   "mimetype": "text/x-python",
   "name": "python",
   "nbconvert_exporter": "python",
   "pygments_lexer": "ipython3",
   "version": "3.9.13"
  },
  "vscode": {
   "interpreter": {
    "hash": "c86da46947afc9f0dc11eec954f97a9ae0e21bab6795e9321b54a44b05c4b7e4"
   }
  }
 },
 "nbformat": 4,
 "nbformat_minor": 2
}
